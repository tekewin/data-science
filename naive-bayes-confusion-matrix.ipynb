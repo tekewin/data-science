{
  "cells": [
    {
      "cell_type": "markdown",
      "metadata": {
        "id": "yugMU9MjJtBl"
      },
      "source": [
        "# Naive Bayes model"
      ]
    },
    {
      "cell_type": "markdown",
      "metadata": {
        "id": "EzWqJunmJotv"
      },
      "source": [
        "## Introduction\n",
        "\n",
        "In this activity, you will build your own Naive Bayes model. Naive Bayes models can be valuable to use any time you are doing work with predictions because they give you a way to account for new information. In today's world, where data is constantly evolving, modeling with Naive Bayes can help you adapt quickly and make more accurate predictions about what could occur.\n",
        "\n",
        "For this activity, you work for a firm that provides insights for management and coaches in the National Basketball Association (NBA), a professional basketball league in North America. The league is interested in retaining players who can last in the high-pressure environment of professional basketball and help the team be successful over time. In the previous activity, you analyzed a subset of data that contained information about the NBA players and their performance records. You conducted feature engineering to determine which features would most effectively predict a player's career duration. You will now use those insights to build a model that predicts whether a player will have an NBA career lasting five years or more.\n",
        "\n",
        "The data for this activity consists of performance statistics from each player's rookie year. There are 1,341 observations, and each observation in the data represents a different player in the NBA. Your target variable is a Boolean value that indicates whether a given player will last in the league for five years. Since you previously performed feature engineering on this data, it is now ready for modeling.   "
      ]
    },
    {
      "cell_type": "markdown",
      "metadata": {
        "id": "yTVinL1hJqoy"
      },
      "source": [
        "## Step 1: Imports"
      ]
    },
    {
      "cell_type": "markdown",
      "metadata": {
        "id": "DDIRpqkZJ4S8"
      },
      "source": [
        "### Import packages\n",
        "\n",
        "Begin with your import statements. Of particular note here are `pandas` and from `sklearn`, `naive_bayes`, `model_selection`, and `metrics`."
      ]
    },
    {
      "cell_type": "code",
      "execution_count": null,
      "metadata": {
        "id": "1nDjAJPa4lVZ"
      },
      "outputs": [],
      "source": [
        "# Import relevant libraries and modules.\n",
        "import numpy as np\n",
        "import pandas as pd\n",
        "\n",
        "import matplotlib.pyplot as plt\n",
        "import seaborn as sns\n",
        "\n",
        "from sklearn.model_selection import train_test_split, cross_val_score\n",
        "\n",
        "# for Naive Bayes\n",
        "from sklearn import naive_bayes, model_selection\n",
        "from sklearn.metrics import recall_score, precision_score, f1_score, accuracy_score\n",
        "from sklearn.metrics import confusion_matrix, ConfusionMatrixDisplay"
      ]
    },
    {
      "cell_type": "markdown",
      "metadata": {
        "id": "hKylHziGzY3X"
      },
      "source": [
        "### Load the dataset\n",
        "\n",
        "Recall that in the lab about feature engineering, you outputted features for the NBA player dataset along with the target variable ``target_5yrs``. Data was imported as a DataFrame called `extracted_data`. As shown in this cell, the dataset has been automatically loaded in for you. You do not need to download the .csv file, or provide more code, in order to access the dataset and proceed with this lab. Please continue with this activity by completing the following instructions."
      ]
    },
    {
      "cell_type": "code",
      "execution_count": null,
      "metadata": {
        "id": "4ebqpNcm4BDH"
      },
      "outputs": [],
      "source": [
        "# RUN THIS CELL TO IMPORT YOUR DATA.\n",
        "# Load extracted_nba_players_data.csv into a DataFrame called extracted_data.\n",
        "\n",
        "extracted_data = pd.read_csv('extracted_nba_players_data.csv')"
      ]
    },
    {
      "cell_type": "markdown",
      "metadata": {
        "id": "yXvtnFn5oBIG"
      },
      "source": [
        "### Display the data\n",
        "\n",
        "Review the first 10 rows of data."
      ]
    },
    {
      "cell_type": "code",
      "execution_count": null,
      "metadata": {
        "id": "JWu8u19C2sn1",
        "outputId": "1e568937-ef62-4981-a19b-7ce9b5df2525"
      },
      "outputs": [
        {
          "name": "stdout",
          "output_type": "stream",
          "text": [
            "     fg    3p    ft  reb  ast  stl  blk  tov  target_5yrs  total_points  \\\n",
            "0  34.7  25.0  69.9  4.1  1.9  0.4  0.4  1.3            0         266.4   \n",
            "1  29.6  23.5  76.5  2.4  3.7  1.1  0.5  1.6            0         252.0   \n",
            "2  42.2  24.4  67.0  2.2  1.0  0.5  0.3  1.0            0         384.8   \n",
            "3  42.6  22.6  68.9  1.9  0.8  0.6  0.1  1.0            1         330.6   \n",
            "4  52.4   0.0  67.4  2.5  0.3  0.3  0.4  0.8            1         216.0   \n",
            "\n",
            "   efficiency  \n",
            "0    0.270073  \n",
            "1    0.267658  \n",
            "2    0.339869  \n",
            "3    0.491379  \n",
            "4    0.391304  \n"
          ]
        }
      ],
      "source": [
        "# Display the first 10 rows of data.\n",
        "\n",
        "### YOUR CODE HERE ###\n",
        "print(extracted_data.head())\n"
      ]
    },
    {
      "cell_type": "markdown",
      "metadata": {
        "id": "4zz8claq0Swi"
      },
      "source": [
        "## Step 2: Model preparation"
      ]
    },
    {
      "cell_type": "markdown",
      "metadata": {
        "id": "8kgPx_MP0cuc"
      },
      "source": [
        "### Isolate your target and predictor variables\n",
        "Separately define the target variable (`target_5yrs`) and the features."
      ]
    },
    {
      "cell_type": "code",
      "execution_count": null,
      "metadata": {
        "id": "xO46EzS8oBIG"
      },
      "outputs": [],
      "source": [
        "# Define the y (target) variable.\n",
        "\n",
        "### YOUR CODE HERE ###\n",
        "y = extracted_data[['target_5yrs']]\n",
        "\n",
        "# Define the X (predictor) variables.\n",
        "\n",
        "### YOUR CODE HERE ###\n",
        "X = extracted_data.copy()\n",
        "X = extracted_data.drop(columns=['target_5yrs'])\n"
      ]
    },
    {
      "cell_type": "markdown",
      "metadata": {
        "id": "xj8-Pb0N-rjW"
      },
      "source": [
        "### Display the first 10 rows of your target data\n",
        "\n",
        "Display the first 10 rows of your target and predictor variables. This will help you get a sense of how the data is structured."
      ]
    },
    {
      "cell_type": "code",
      "execution_count": null,
      "metadata": {
        "id": "pivKfaxQ5uHZ",
        "outputId": "7436b0a7-d51f-4437-fb94-9455f3e89980"
      },
      "outputs": [
        {
          "name": "stdout",
          "output_type": "stream",
          "text": [
            "   target_5yrs\n",
            "0            0\n",
            "1            0\n",
            "2            0\n",
            "3            1\n",
            "4            1\n",
            "5            0\n",
            "6            1\n",
            "7            1\n",
            "8            0\n",
            "9            0\n"
          ]
        }
      ],
      "source": [
        "# Display the first 10 rows of your target data.\n",
        "print(y.head(10))\n"
      ]
    },
    {
      "cell_type": "markdown",
      "metadata": {
        "id": "oDls2RifZhu2"
      },
      "source": [
        "**Question:** What do you observe about the your target variable?\n"
      ]
    },
    {
      "cell_type": "markdown",
      "metadata": {
        "id": "sc4IshYKzENq"
      },
      "source": [
        "It is boolean, 0 or 1."
      ]
    },
    {
      "cell_type": "code",
      "execution_count": null,
      "metadata": {
        "id": "2kDZK5qe-4B0",
        "outputId": "1cdf300e-3927-4120-e684-eb60c13f6ead"
      },
      "outputs": [
        {
          "name": "stdout",
          "output_type": "stream",
          "text": [
            "     fg    3p    ft  reb  ast  stl  blk  tov  total_points  efficiency\n",
            "0  34.7  25.0  69.9  4.1  1.9  0.4  0.4  1.3         266.4    0.270073\n",
            "1  29.6  23.5  76.5  2.4  3.7  1.1  0.5  1.6         252.0    0.267658\n",
            "2  42.2  24.4  67.0  2.2  1.0  0.5  0.3  1.0         384.8    0.339869\n",
            "3  42.6  22.6  68.9  1.9  0.8  0.6  0.1  1.0         330.6    0.491379\n",
            "4  52.4   0.0  67.4  2.5  0.3  0.3  0.4  0.8         216.0    0.391304\n",
            "5  42.3  32.5  73.2  0.8  1.8  0.4  0.0  0.7         277.5    0.324561\n",
            "6  43.5  50.0  81.1  2.0  0.6  0.2  0.1  0.7         409.2    0.605505\n",
            "7  41.5  30.0  87.5  1.7  0.2  0.2  0.1  0.7         273.6    0.553398\n",
            "8  39.2  23.3  71.4  0.8  2.3  0.3  0.0  1.1         156.0    0.242424\n",
            "9  38.3  21.4  67.8  1.1  0.3  0.2  0.0  0.7         155.4    0.435294\n"
          ]
        }
      ],
      "source": [
        "# Display the first 10 rows of your predictor variables.\n",
        "print(X.head(10))"
      ]
    },
    {
      "cell_type": "markdown",
      "metadata": {
        "id": "Albdy39HZwQT"
      },
      "source": [
        "**Question:** What do you observe about the your predictor variables?"
      ]
    },
    {
      "cell_type": "markdown",
      "metadata": {
        "id": "oD5l-FnazDYh"
      },
      "source": [
        "All variables are continuous."
      ]
    },
    {
      "cell_type": "markdown",
      "metadata": {
        "id": "cQ-wo4UOoBII"
      },
      "source": [
        "### Perform a split operation on your data\n",
        "\n",
        "Divide your data into a training set (75% of data) and test set (25% of data). This is an important step in the process, as it allows you to reserve a part of the data that the model has not observed. This tests how well the model generalizes—or performs—on new data."
      ]
    },
    {
      "cell_type": "code",
      "execution_count": null,
      "metadata": {
        "id": "pO2AdPR7oBIJ"
      },
      "outputs": [],
      "source": [
        "# Perform the split operation on your data.\n",
        "# Assign the outputs as follows: X_train, X_test, y_train, y_test.\n",
        "X_train, X_test, y_train, y_test = train_test_split(X, y, test_size=0.25, random_state=42)\n",
        "\n"
      ]
    },
    {
      "cell_type": "markdown",
      "metadata": {
        "id": "Gjasizab0tSL"
      },
      "source": [
        "### Print the shape of each output\n",
        "\n",
        "Print the shape of each output from your train-test split. This will verify that the split operated as expected."
      ]
    },
    {
      "cell_type": "code",
      "execution_count": null,
      "metadata": {
        "id": "xtxpSjCm4jCa",
        "outputId": "f3664cbf-b69b-49f2-e29a-2bc99fe5bd17"
      },
      "outputs": [
        {
          "name": "stdout",
          "output_type": "stream",
          "text": [
            "X_train: (1005, 10)\n",
            "X_test: (335, 10)\n",
            "y_train: (1005, 1)\n",
            "y_test: (335, 1)\n"
          ]
        }
      ],
      "source": [
        "# Print the shape of X_train.\n",
        "print(\"X_train:\", X_train.shape)\n",
        "\n",
        "# Print the shape of X_test.\n",
        "print(\"X_test:\", X_test.shape)\n",
        "\n",
        "# Print the shape of y_train.\n",
        "print(\"y_train:\", y_train.shape)\n",
        "\n",
        "# Print the shape of y_test.\n",
        "print(\"y_test:\", y_test.shape)\n"
      ]
    },
    {
      "cell_type": "code",
      "execution_count": null,
      "metadata": {
        "id": "PLUETVARNzKU"
      },
      "outputs": [],
      "source": []
    },
    {
      "cell_type": "raw",
      "metadata": {
        "id": "dx8DO1Rw2ZBZ"
      },
      "source": [
        "<details>\n",
        "<summary><h4><strong>Hint 1</strong></h4></summary>\n",
        "\n",
        "Call the attribute that DataFrames in `pandas` have to get the number of rows and number of columns as a tuple.\n",
        "</details>"
      ]
    },
    {
      "cell_type": "markdown",
      "metadata": {
        "id": "zZndsnPq1UyL"
      },
      "source": [
        "**Question:** How many rows are in each of the outputs?\n"
      ]
    },
    {
      "cell_type": "code",
      "execution_count": null,
      "metadata": {
        "id": "74-KZfWUzBeV"
      },
      "outputs": [],
      "source": [
        "X_train: 1005\n",
        "X_test: 335\n",
        "y_train: 1005\n",
        "y_test: 335"
      ]
    },
    {
      "cell_type": "markdown",
      "metadata": {
        "id": "_G5xBrJAZwlE"
      },
      "source": [
        "**Question:** What was the effect of the train-test split?\n"
      ]
    },
    {
      "cell_type": "markdown",
      "metadata": {
        "id": "w6MlJiZNzA9A"
      },
      "source": [
        "It separated data into training and testing sets."
      ]
    },
    {
      "cell_type": "markdown",
      "metadata": {
        "id": "MY0rAjlZAheh"
      },
      "source": [
        "## Step 3: Model building"
      ]
    },
    {
      "cell_type": "markdown",
      "metadata": {
        "id": "YS06KhTSoBIM"
      },
      "source": [
        "**Question:** Which Naive Bayes algorithm should you use?"
      ]
    },
    {
      "cell_type": "markdown",
      "metadata": {
        "id": "ajt2BYgjzALD"
      },
      "source": [
        "GaussianNB because all of independent variables are continuous."
      ]
    },
    {
      "cell_type": "markdown",
      "metadata": {
        "id": "m5EFtZfXoBIN"
      },
      "source": [
        "### Fit your model to your training data and predict on your test data\n",
        "\n",
        "By creating your model, you will be drawing on your feature engineering work by training the classifier on the `X_train` DataFrame. You will use this to predict `target_5yrs` from `y_train`.\n",
        "\n",
        "Start by defining `nb` to be the relevant algorithm from `sklearn`.`naive_bayes`. Then fit your model to your training data. Use this fitted model to create predictions for your test data."
      ]
    },
    {
      "cell_type": "code",
      "execution_count": null,
      "metadata": {
        "id": "gUEgzQW_6oMV"
      },
      "outputs": [],
      "source": [
        "# Assign `nb` to be the appropriate implementation of Naive Bayes.\n",
        "nb = naive_bayes.GaussianNB()\n",
        "\n",
        "# Fit the model on your training data.\n",
        "nb.fit(X_train, y_train)\n",
        "\n",
        "# Apply model to predict on your test data. Call this \"y_pred\".\n",
        "y_preds = nb.predict(X_test)\n"
      ]
    },
    {
      "cell_type": "markdown",
      "metadata": {
        "id": "qgV_6xAQAvgg"
      },
      "source": [
        "## Step 4: Results and evaluation\n"
      ]
    },
    {
      "cell_type": "markdown",
      "metadata": {
        "id": "XPswDdr1oBIO"
      },
      "source": [
        "### Leverage metrics to evaluate your model's performance\n",
        "\n",
        "To evaluate the data yielded from your model, you can leverage a series of metrics and evaluation techniques from scikit-learn by examining the actual observed values in the test set relative to your model's prediction. Specifically, print the accuracy score, precision score, recall score, and f1 score associated with your test data and predicted values."
      ]
    },
    {
      "cell_type": "code",
      "execution_count": null,
      "metadata": {
        "id": "INf2Rd_MoBIP",
        "outputId": "2587eb57-f45e-4a71-e13e-784d22b911a8"
      },
      "outputs": [
        {
          "name": "stdout",
          "output_type": "stream",
          "text": [
            "Accuracy: 0.654\n",
            "Precision: 0.838\n",
            "Recall: 0.548\n",
            "F1 Score: 0.663\n"
          ]
        }
      ],
      "source": [
        "# Print your accuracy score.\n",
        "print('Accuracy:', '%.3f' % accuracy_score(y_test, y_preds))\n",
        "\n",
        "# Print your precision score.\n",
        "print('Precision:', '%.3f' % precision_score(y_test, y_preds))\n",
        "\n",
        "# Print your recall score.\n",
        "print('Recall:', '%.3f' % recall_score(y_test, y_preds))\n",
        "\n",
        "# Print your f1 score.\n",
        "print('F1 Score:', '%.3f' % f1_score(y_test, y_preds))\n"
      ]
    },
    {
      "cell_type": "markdown",
      "metadata": {
        "id": "dDx7rrdNoBIP"
      },
      "source": [
        "**Question:** What is the accuracy score for your model, and what does this tell you about the success of the model's performance?\n",
        "\n"
      ]
    },
    {
      "cell_type": "markdown",
      "metadata": {
        "id": "oD9Wu2eEy-CC"
      },
      "source": [
        "Accuracy: 0.654 the proportion predictions that were correct, both positive and negative. This is not a great score."
      ]
    },
    {
      "cell_type": "markdown",
      "metadata": {
        "id": "x3O1G_TIaaGw"
      },
      "source": [
        "**Question:** Can you evaluate the success of your model by using the accuracy score exclusively?\n"
      ]
    },
    {
      "cell_type": "markdown",
      "metadata": {
        "id": "Fd9zpsZFy9cP"
      },
      "source": [
        "No."
      ]
    },
    {
      "cell_type": "markdown",
      "metadata": {
        "id": "evpAa_4noBIP"
      },
      "source": [
        "**Question:** What are the precision and recall scores for your model, and what do they mean? Is one of these scores more accurate than the other?\n"
      ]
    },
    {
      "cell_type": "markdown",
      "metadata": {
        "id": "Di-uEPDTy8MW"
      },
      "source": [
        "Precision: 0.838\n",
        "Recall: 0.548\n",
        "Precision was much better than recall. Precision measures the proportion of positive predictions that are correct to all positive predictions. Recall measures the proportion of data points that are predicted as True, out of all the data points that are actually True."
      ]
    },
    {
      "cell_type": "markdown",
      "metadata": {
        "id": "7ghkTwSUoBIP"
      },
      "source": [
        "**Question:** What is the F1 score of your model, and what does this score mean?"
      ]
    },
    {
      "cell_type": "markdown",
      "metadata": {
        "id": "GEUUWvrmy7aE"
      },
      "source": [
        "F1 Score: 0.663 F1 score is a measurement that combines both precision and recall into a single expression, giving each equal importance."
      ]
    },
    {
      "cell_type": "markdown",
      "metadata": {
        "id": "mNzDfI3RoBIQ"
      },
      "source": [
        "### Gain clarity with the confusion matrix\n",
        "\n",
        "Recall that a confusion matrix is a graphic that shows your model's true and false positives and negatives. It helps to create a visual representation of the components feeding into the metrics.\n",
        "\n",
        "Create a confusion matrix based on your predicted values for the test set."
      ]
    },
    {
      "cell_type": "code",
      "execution_count": null,
      "metadata": {
        "id": "ntoJ-YG7oBIQ",
        "outputId": "21b6aee0-c0dd-40d2-8d97-85dd50a26801"
      },
      "outputs": [
        {
          "data": {
            "image/png": "[encoded data removed]",
            "text/plain": [
              "<Figure size 432x288 with 2 Axes>"
            ]
          },
          "metadata": {
            "needs_background": "light"
          },
          "output_type": "display_data"
        }
      ],
      "source": [
        "# Construct and display your confusion matrix.\n",
        "\n",
        "# Construct the confusion matrix for your predicted and test values.\n",
        "cm = confusion_matrix(y_test, y_preds, labels=nb.classes_)\n",
        "\n",
        "# Create the display for your confusion matrix.\n",
        "disp = ConfusionMatrixDisplay(confusion_matrix=cm, display_labels=nb.classes_,)\n",
        "\n",
        "# Plot the visual in-line.\n",
        "disp.plot(values_format='') # values_format='' suppresses scientific notation\n",
        "plt.show()\n"
      ]
    },
    {
      "cell_type": "markdown",
      "metadata": {
        "id": "aLkF5znkNk7m"
      },
      "source": [
        "**Question:** What do you notice when observing your confusion matrix, and does this correlate to any of your other calculations?\n"
      ]
    },
    {
      "cell_type": "markdown",
      "metadata": {
        "id": "EA2eAI9Dy6OJ"
      },
      "source": [
        "There were more false negatives than false positives."
      ]
    },
    {
      "cell_type": "markdown",
      "metadata": {
        "id": "xur2FC5xAzp0"
      },
      "source": [
        "## Considerations\n",
        "\n",
        "**What are some key takeaways that you learned from this lab?**\n",
        "\n",
        "How to create a naive bayes model, make predictions, and evaluate the model.\n",
        "\n",
        "**How would you present your results to your team?**\n",
        "\n",
        "Present the evaluation metrics and confusion matrix.\n",
        "\n",
        "**How would you summarize your findings to stakeholders?**\n",
        "\n",
        "I think the model additional work. While it is pretty good at predicting positive longevity of NBA players, it also predicts a lot of false positives. The F1 score suggests it should be improved before making important business decisions based on it.\n"
      ]
    }
  ],
  "metadata": {
    "colab": {
      "provenance": []
    },
    "kernelspec": {
      "display_name": "Python 3",
      "language": "python",
      "name": "python3"
    },
    "language_info": {
      "codemirror_mode": {
        "name": "ipython",
        "version": 3
      },
      "file_extension": ".py",
      "mimetype": "text/x-python",
      "name": "python",
      "nbconvert_exporter": "python",
      "pygments_lexer": "ipython3",
      "version": "3.7.6"
    }
  },
  "nbformat": 4,
  "nbformat_minor": 0
}